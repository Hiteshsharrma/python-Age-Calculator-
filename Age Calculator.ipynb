{
 "cells": [
  {
   "cell_type": "code",
   "execution_count": 47,
   "id": "de6dcefa",
   "metadata": {},
   "outputs": [
    {
     "name": "stdout",
     "output_type": "stream",
     "text": [
      "Hello World\n"
     ]
    }
   ],
   "source": [
    "print(\"Hello World\")"
   ]
  },
  {
   "cell_type": "markdown",
   "id": "c86f506f",
   "metadata": {},
   "source": [
    "### Making Age Calculator to find an Person is adult or not"
   ]
  },
  {
   "cell_type": "code",
   "execution_count": 48,
   "id": "e1625665",
   "metadata": {},
   "outputs": [
    {
     "name": "stdout",
     "output_type": "stream",
     "text": [
      "What is Yours Name : hitesh\n",
      "What is yours age : 20\n",
      "hitesh you will be an adult in -2 years\n"
     ]
    }
   ],
   "source": [
    "name = input(\"What is Yours Name : \")\n",
    "age = int(input(\"What is yours age : \"))\n",
    "\n",
    "yearsto18 = 18 - age\n",
    "\n",
    "print(name, \"you will be an adult in \" +str(yearsto18)+  \" years\")"
   ]
  },
  {
   "cell_type": "markdown",
   "id": "db883ed0",
   "metadata": {},
   "source": [
    "### Using if , else & elif Conditions"
   ]
  },
  {
   "cell_type": "code",
   "execution_count": 38,
   "id": "a6dfaf7f",
   "metadata": {},
   "outputs": [
    {
     "name": "stdout",
     "output_type": "stream",
     "text": [
      "What is Yours Name : hitesh\n",
      "What is yours age : 18\n",
      "Congratulations hitesh you are an adult\n"
     ]
    }
   ],
   "source": [
    "name = input(\"What is Yours Name : \")\n",
    "age = int(input(\"What is yours age : \"))\n",
    "\n",
    "yearsto18 = 18 - age\n",
    "if yearsto18 > 0 :\n",
    "    print(name, \"you will be an adult in \" +str(yearsto18)+  \" years\") \n",
    "elif yearsto18 == 0:\n",
    "    print(\"Congratulations\",name , \"you are now an adult\")\n",
    "\n",
    "else:\n",
    "    print(name, \" you had became adult \" +str(yearsto18)+  \" years ago\")"
   ]
  },
  {
   "cell_type": "code",
   "execution_count": 43,
   "id": "01a9ed6a",
   "metadata": {},
   "outputs": [
    {
     "name": "stdout",
     "output_type": "stream",
     "text": [
      "What is Yours Name : hitesh\n",
      "What is yours age : 15\n",
      "hitesh you will be an adult in 3 years\n"
     ]
    }
   ],
   "source": [
    "name = input(\"What is Yours Name : \")\n",
    "age = int(input(\"What is yours age : \"))\n",
    "\n",
    "yearsto18 = 18 - age\n",
    "if yearsto18 > 0 :\n",
    "    print(name, \"you will be an adult in \" +str(yearsto18)+  \" years\") \n",
    "elif yearsto18 == 0:\n",
    "    print(\"Congratulations\",name , \"you are now an adult\")\n",
    "\n",
    "else:\n",
    "    print(name, \" you had became adult \" +str(yearsto18)+  \" years ago\")"
   ]
  },
  {
   "cell_type": "code",
   "execution_count": 49,
   "id": "d96a91b6",
   "metadata": {},
   "outputs": [
    {
     "name": "stdout",
     "output_type": "stream",
     "text": [
      "What is Yours Name : hitesh\n",
      "What is yours age : 20\n",
      "hitesh  you had became adult 2 years ago\n"
     ]
    }
   ],
   "source": [
    "name = input(\"What is Yours Name : \")\n",
    "age = int(input(\"What is yours age : \"))\n",
    "\n",
    "yearsto18 = 18 - age\n",
    "if yearsto18 > 0 :\n",
    "    print(name, \"you will be an adult in \" +str(yearsto18)+  \" years\") \n",
    "elif yearsto18 == 0:\n",
    "    print(\"Congratulations\",name , \"you are now an adult\")\n",
    "\n",
    "else:\n",
    "    print(name, \" you had became adult \" +str(-yearsto18)+  \" years ago\")"
   ]
  },
  {
   "cell_type": "code",
   "execution_count": null,
   "id": "f2c09c66",
   "metadata": {},
   "outputs": [],
   "source": []
  }
 ],
 "metadata": {
  "kernelspec": {
   "display_name": "Python 3 (ipykernel)",
   "language": "python",
   "name": "python3"
  },
  "language_info": {
   "codemirror_mode": {
    "name": "ipython",
    "version": 3
   },
   "file_extension": ".py",
   "mimetype": "text/x-python",
   "name": "python",
   "nbconvert_exporter": "python",
   "pygments_lexer": "ipython3",
   "version": "3.9.13"
  }
 },
 "nbformat": 4,
 "nbformat_minor": 5
}
